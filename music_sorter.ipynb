{
 "cells": [
  {
   "cell_type": "code",
   "execution_count": 1,
   "id": "861e7210",
   "metadata": {},
   "outputs": [
    {
     "data": {
      "text/plain": [
       "'c:\\\\music_coding_tryout'"
      ]
     },
     "execution_count": 1,
     "metadata": {},
     "output_type": "execute_result"
    }
   ],
   "source": [
    "import os\n",
    "current_directory = os.getcwd()\n",
    "current_directory"
   ]
  },
  {
   "cell_type": "code",
   "execution_count": 2,
   "id": "05b44901",
   "metadata": {},
   "outputs": [
    {
     "data": {
      "text/plain": [
       "['.idea',\n",
       " '.ipynb_checkpoints',\n",
       " 'foreign_songs',\n",
       " 'music_sorter.ipynb',\n",
       " 'music_sorter_oop.py']"
      ]
     },
     "execution_count": 2,
     "metadata": {},
     "output_type": "execute_result"
    }
   ],
   "source": [
    "os.listdir()"
   ]
  },
  {
   "cell_type": "code",
   "execution_count": 3,
   "id": "c54a2ede",
   "metadata": {},
   "outputs": [],
   "source": [
    "from pathlib import Path, PurePath"
   ]
  },
  {
   "cell_type": "code",
   "execution_count": 4,
   "id": "a2e8d879",
   "metadata": {},
   "outputs": [],
   "source": [
    "source_path = 'C:\\\\music_coding_tryout\\\\foreign_songs'\n",
    "source_songs = os.listdir(source_path)"
   ]
  },
  {
   "cell_type": "code",
   "execution_count": 60,
   "id": "322b89e6",
   "metadata": {},
   "outputs": [],
   "source": [
    "# # First, create a function to get the artist name from a song file\n",
    "# def artist(song):\n",
    "#     if '-' in song and '.mp3' in song:\n",
    "#         artist_name = song.split(' - ')[0].lower()\n",
    "#         return artist_name"
   ]
  },
  {
   "cell_type": "code",
   "execution_count": 5,
   "id": "79fb1dde",
   "metadata": {},
   "outputs": [],
   "source": [
    "# Second, create a list of all artist names taken from the first part of the file names\n",
    "artists_list = []\n",
    "for song in source_songs:\n",
    "    if '-' in song and '.mp3' in song:\n",
    "        artist_name = song.split(' - ')[0].lower()\n",
    "        if artist_name not in artists_list:\n",
    "            artists_list.append(artist_name)"
   ]
  },
  {
   "cell_type": "code",
   "execution_count": 6,
   "id": "169fd8b4",
   "metadata": {},
   "outputs": [
    {
     "data": {
      "text/plain": [
       "['50_cent_-_candy_shop.mp3',\n",
       " 'a-ha',\n",
       " 'a.r. rahman (feat nicole scherzinger)',\n",
       " 'adele',\n",
       " 'aerosmith',\n",
       " 'akon',\n",
       " 'alexandra stan',\n",
       " 'alphaville',\n",
       " 'andy williams',\n",
       " 'antonio banderas',\n",
       " 'avalon',\n",
       " \"baby i'm yours\",\n",
       " 'baila baila con migo',\n",
       " 'berlin',\n",
       " 'betty moon',\n",
       " 'bill withers',\n",
       " 'blondie',\n",
       " 'blue box',\n",
       " 'blue_curtain-falls.mp3',\n",
       " 'bob marley & ub40',\n",
       " 'bob sinclar & cutee b. feat. gary pine & dollarman',\n",
       " 'bob sinclar',\n",
       " 'bob sinclar, cutee b',\n",
       " 'bobby mcferrin',\n",
       " \"bomfunk mc's\",\n",
       " 'bread',\n",
       " 'britney spears',\n",
       " 'bruno mars',\n",
       " 'buraka som sistema',\n",
       " 'buster poindexter',\n",
       " 'carmen mcrae & cal tjader',\n",
       " 'chaka demus & pliers',\n",
       " 'charlie puth',\n",
       " \"cher-dov'e l'amore.mp3\",\n",
       " 'chris rea',\n",
       " 'cj lewis',\n",
       " 'crowded house',\n",
       " 'cyndi lauper',\n",
       " 'dalida feat. alain delon',\n",
       " 'dance me to the end of love (with lyrics)',\n",
       " 'danzel',\n",
       " 'david guetta',\n",
       " 'dean martin',\n",
       " 'deee-lite',\n",
       " 'demis roussos',\n",
       " 'diana ross and lionel richie',\n",
       " 'dick farney & norma benguell',\n",
       " 'dido',\n",
       " 'disturbed ',\n",
       " 'dnce',\n",
       " 'dolly dots',\n",
       " 'drake',\n",
       " 'earth, wind & fire',\n",
       " 'edith backlund',\n",
       " 'ellie goulding, diplo, swae lee',\n",
       " 'elton john, dua lipa',\n",
       " 'empire state of mind jay-z _ alicia keys.mp3',\n",
       " 'eternal flame',\n",
       " 'eurovision 2001 winner',\n",
       " 'eurythmics',\n",
       " 'every breath you take',\n",
       " 'f.r. david',\n",
       " 'fairground attraction',\n",
       " 'fairy tale -alexander rybak.mp3',\n",
       " 'falco',\n",
       " 'feder',\n",
       " 'fergie',\n",
       " 'fifth harmony',\n",
       " 'frank sinatra',\n",
       " 'freshlyground',\n",
       " 'george michael',\n",
       " \"gigi d'agostino\",\n",
       " 'groove coverage',\n",
       " \"groovejet (if this ain't love)\",\n",
       " 'guy sebastian',\n",
       " 'hadise',\n",
       " 'happy together- the turtles.mp3',\n",
       " 'helena paparizou',\n",
       " 'here comes the hotstepper',\n",
       " 'hey ya!',\n",
       " 'hilary duff',\n",
       " 'hindi zahra',\n",
       " 'hot hot hot',\n",
       " 'i monster',\n",
       " 'ian brown',\n",
       " 'imagine dragons',\n",
       " 'it must be love- madness.mp3',\n",
       " \"it's a sin\",\n",
       " 'jain',\n",
       " 'jamelia',\n",
       " 'james brown',\n",
       " 'jennifer lopez',\n",
       " 'john lennon',\n",
       " 'jr jr',\n",
       " 'justin timberlake & timberland',\n",
       " 'kali',\n",
       " 'kansas',\n",
       " 'katy perry',\n",
       " 'kylie minogue',\n",
       " 'la vida es un carnaval',\n",
       " 'lalola- miranda- hola!.mp3',\n",
       " 'las ketchup',\n",
       " 'las-ketchup_the-ketchup-song.mp3',\n",
       " 'laura branigan',\n",
       " 'led zeppelin',\n",
       " 'lemon tree',\n",
       " 'leonard cohen',\n",
       " 'lionel richie',\n",
       " 'lou bega',\n",
       " 'luis fonsi, demi lovato',\n",
       " 'lynyrd skynyrd-free bird.mp3',\n",
       " 'magalenha-bellini.mp3',\n",
       " 'major lazer &amp; dj snake',\n",
       " 'mariah carey',\n",
       " 'maroon 5',\n",
       " 'marry you',\n",
       " 'metallica',\n",
       " 'miike snow',\n",
       " 'milk & sugar vs. vaya con dios',\n",
       " 'modern talking',\n",
       " 'mondo candido',\n",
       " 'morcheeba-otherwise.mp3',\n",
       " 'mory kante',\n",
       " 'mr. president',\n",
       " 'muse',\n",
       " 'natalie imbruglia',\n",
       " 'nathalie cardone',\n",
       " 'nelly furtado',\n",
       " 'never gonna happen- lily allen.mp3',\n",
       " 'night at the roxbury',\n",
       " 'olivia newton-john_over_the_rainbow.mp3',\n",
       " 'onerepublic',\n",
       " 'otherwise-morcheeba.mp3',\n",
       " 'panjabi mc',\n",
       " 'pierre bachelet -- emmanuelle 1974 avec lyrics, paroles.mp3',\n",
       " 'pink',\n",
       " 'play that funky music',\n",
       " 'pnau',\n",
       " 'portugal. the man',\n",
       " 'raphy leavitt y orquesta la selecta',\n",
       " 'red red wine',\n",
       " 'relax, take it easy-mika.mp3',\n",
       " 'remember when',\n",
       " 'reunited',\n",
       " 'reza sadeghi',\n",
       " 'rick astley',\n",
       " 'ricky martin',\n",
       " 'rihanna',\n",
       " 'rita ora',\n",
       " 'robbie williams',\n",
       " 'sam & the womp',\n",
       " 'sandra',\n",
       " 'sexy-chery.mp3',\n",
       " 'shall we dance soundtrack',\n",
       " 'shania twain',\n",
       " 'shine on',\n",
       " 'simply red',\n",
       " 'snuggle bunny',\n",
       " 'sophie ellis-bextor',\n",
       " 'soraya-come on and take me.mp3',\n",
       " 'spice girls',\n",
       " 'spy',\n",
       " 'sting',\n",
       " 'supertramp',\n",
       " 'survivor',\n",
       " 't.a.t.u.',\n",
       " 'tarkan',\n",
       " \"the bed's too big without you\",\n",
       " 'the belle stars',\n",
       " \"the best that you can do (-arthur's theme-)\",\n",
       " 'the klf',\n",
       " 'the verve',\n",
       " 'the_pussy_cat_dolls_-_sway.mp3',\n",
       " 'thomas crown affair',\n",
       " 'tina arena',\n",
       " 'tina charles',\n",
       " 'tony orlando & dawn',\n",
       " 'toto',\n",
       " 'toto cutugno',\n",
       " 'trio los panchos',\n",
       " 'two tribes',\n",
       " 'un homme et une femme (chant)',\n",
       " 'usher ft._ludacris_lil_jon-_yeah.mp3',\n",
       " 'various artists',\n",
       " 'vashti bunyan',\n",
       " 'vengaboys',\n",
       " 'vicki sue robinson',\n",
       " 'volvere',\n",
       " 'wannabe',\n",
       " 'way back into love',\n",
       " 'willy deville',\n",
       " 'yolanda be cool',\n",
       " 'yves larock feat. jaba']"
      ]
     },
     "execution_count": 6,
     "metadata": {},
     "output_type": "execute_result"
    }
   ],
   "source": [
    "artists_list"
   ]
  },
  {
   "cell_type": "code",
   "execution_count": 9,
   "id": "fc4d9cdf",
   "metadata": {},
   "outputs": [],
   "source": [
    "# Third, filter the artists_list based on the number of songs\n",
    "for artist in artists_list:\n",
    "    counter = 0\n",
    "    for song in source_songs:\n",
    "        if song.split(' - ')[0].lower() == artist.lower():\n",
    "            counter += 1\n",
    "# Finally, create a new folder for each artist having more than 2 songs in the source folder\n",
    "    if counter > 2:\n",
    "        folder_name = artist\n",
    "        folder_path = os.path.join(current_directory, folder_name)\n",
    "        Path(folder_path).mkdir(exist_ok=True)\n",
    "        for song in source_songs:\n",
    "            if song.split(' - ')[0] == artist:\n",
    "                song_old_path = os.path.join(source_path, song)\n",
    "                song_new_path = os.path.join(folder_path, song)\n",
    "                os.rename(song_old_path, song_new_path)\n"
   ]
  },
  {
   "cell_type": "code",
   "execution_count": null,
   "id": "5aea8ce5",
   "metadata": {},
   "outputs": [],
   "source": []
  }
 ],
 "metadata": {
  "kernelspec": {
   "display_name": "Python 3 (ipykernel)",
   "language": "python",
   "name": "python3"
  },
  "language_info": {
   "codemirror_mode": {
    "name": "ipython",
    "version": 3
   },
   "file_extension": ".py",
   "mimetype": "text/x-python",
   "name": "python",
   "nbconvert_exporter": "python",
   "pygments_lexer": "ipython3",
   "version": "3.10.9"
  },
  "vscode": {
   "interpreter": {
    "hash": "8628ed9a6ae55b8a07f0d8946d10f46938a720056c90a18f99bf2cb246eea6ba"
   }
  }
 },
 "nbformat": 4,
 "nbformat_minor": 5
}
